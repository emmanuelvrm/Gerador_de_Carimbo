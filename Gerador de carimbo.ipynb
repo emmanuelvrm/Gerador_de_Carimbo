{
 "cells": [
  {
   "cell_type": "code",
   "execution_count": 11,
   "id": "d68de023",
   "metadata": {
    "ExecuteTime": {
     "end_time": "2024-01-14T16:24:53.039372Z",
     "start_time": "2024-01-14T16:24:47.486058Z"
    }
   },
   "outputs": [
    {
     "name": "stderr",
     "output_type": "stream",
     "text": [
      "/tmp/ipykernel_148202/2124008971.py:94: DeprecationWarning: ANTIALIAS is deprecated and will be removed in Pillow 10 (2023-07-01). Use LANCZOS or Resampling.LANCZOS instead.\n",
      "  nobg_image_resized = cropped_image.resize((new_width, new_height), Image.ANTIALIAS)\n",
      "/tmp/ipykernel_148202/2124008971.py:101: DeprecationWarning: ANTIALIAS is deprecated and will be removed in Pillow 10 (2023-07-01). Use LANCZOS or Resampling.LANCZOS instead.\n",
      "  nobg_image_resized = cropped_image.resize((new_width, new_height), Image.ANTIALIAS)\n",
      "/tmp/ipykernel_148202/2124008971.py:143: DeprecationWarning: textsize is deprecated and will be removed in Pillow 10 (2023-07-01). Use textbbox or textlength instead.\n",
      "  text1_width, text1_height = draw.textsize(text1, font=font_large)\n",
      "/tmp/ipykernel_148202/2124008971.py:144: DeprecationWarning: textsize is deprecated and will be removed in Pillow 10 (2023-07-01). Use textbbox or textlength instead.\n",
      "  text2_width, text2_height = draw.textsize(text2, font=font_small)\n",
      "Image contains an alpha channel. Computing a separate soft mask (/SMask) image to store transparency in PDF.\n"
     ]
    }
   ],
   "source": [
    "from rembg import remove\n",
    "from PIL import Image,ImageDraw, ImageFont, ImageEnhance\n",
    "import img2pdf\n",
    "import PyPDF2\n",
    "import numpy as np\n",
    "\n",
    "imagem = Image.open(r'input.jpeg')\n",
    "imagem.save(r'cropped.png')\n",
    "\n",
    "# Caminho para a imagem de entrada\n",
    "input_path = 'cropped.png'\n",
    "\n",
    "# Caminho para a imagem de saída\n",
    "output_path = 'nobg.png'\n",
    "\n",
    "# Abre a imagem\n",
    "input_image = Image.open(input_path)\n",
    "\n",
    "# Ajusta o brilho e o contraste para saturar o branco\n",
    "enhancer = ImageEnhance.Contrast(input_image)\n",
    "enhanced_image = enhancer.enhance(100)  # Ajuste o fator conforme necessário\n",
    "\n",
    "# Remove o fundo da imagem convertida\n",
    "output_image = remove(input_image)\n",
    "\n",
    "# Salva a imagem processada\n",
    "output_image.save(output_path)\n",
    "\n",
    "###############\n",
    "# + REMOVENDO O FUNDO\n",
    "##########\n",
    "\n",
    "# Opening Image \n",
    "im = Image.open(r\"cropped.png\") \n",
    "  \n",
    "# Creating object of Brightness class \n",
    "im3 = ImageEnhance.Brightness(im) \n",
    "  \n",
    "# showing resultant image \n",
    "imgbr = im3.enhance(1.5)\n",
    "enhancer = ImageEnhance.Contrast(imgbr)\n",
    "\n",
    "#aumenta o contraste\n",
    "enhanced_image = enhancer.enhance(2)\n",
    "\n",
    "#deixa preto e branco\n",
    "bw_image = enhanced_image.convert('L')\n",
    "\n",
    "#covert to np array\n",
    "input_array = np.array(bw_image)\n",
    "\n",
    "# remove o fundo\n",
    "output_array = remove(input_array)\n",
    "\n",
    "# Create a PIL Image from the output array\n",
    "output_image = Image.fromarray(output_array)\n",
    "    \n",
    "# Salva a imagem processada\n",
    "output_image.save(output_path)\n",
    "\n",
    "# + RECORTAR\n",
    "\n",
    "image = output_image\n",
    "\n",
    "# Converte a imagem para um array\n",
    "pixels = image.getdata()\n",
    "\n",
    "# Encontra os limites da área não transparente\n",
    "left, top, right, bottom = image.width, image.height, 0, 0\n",
    "for x in range(image.width):\n",
    "    for y in range(image.height):\n",
    "        # Verifica a transparência do pixel\n",
    "        if pixels[y * image.width + x][3] > 0:\n",
    "            left = min(left, x)\n",
    "            top = min(top, y)\n",
    "            right = max(right, x)\n",
    "            bottom = max(bottom, y)\n",
    "\n",
    "# Recorta a imagem na área não transparente\n",
    "if left < right and top < bottom:\n",
    "    cropped_image = image.crop((left, top, right + 1, bottom + 1))\n",
    "    cropped_image\n",
    "\n",
    "###############\n",
    "# + REDIMENSIONANDO\n",
    "###########\n",
    "\n",
    "# Proporções originais\n",
    "original_width, original_height = cropped_image.size\n",
    "\n",
    "# Redimensiona para largura de 100 pixels, mantendo proporção\n",
    "new_width = 100\n",
    "new_height = int((new_width / original_width) * original_height)\n",
    "nobg_image_resized = cropped_image.resize((new_width, new_height), Image.ANTIALIAS)\n",
    "\n",
    "# Verifica se a altura é maior que 40 pixels\n",
    "if new_height > 50:\n",
    "    # Redimensiona para altura de 40 pixels, mantendo proporção\n",
    "    new_height = 50\n",
    "    new_width = int((new_height / original_height) * original_width)\n",
    "    nobg_image_resized = cropped_image.resize((new_width, new_height), Image.ANTIALIAS)\n",
    "\n",
    "###############\n",
    "# + ADICIONA linha, sobrepõe imagens e adiciona textos\n",
    "###########\n",
    "\n",
    "\n",
    "# Carrega a imagem sem fundo\n",
    "nobg_image = nobg_image_resized\n",
    "\n",
    "# Dimensões da imagem nobg_image\n",
    "nobg_width, nobg_height = nobg_image.size\n",
    "\n",
    "# Carrega a imagem de fundo\n",
    "background_image = Image.open(\"fundo.png\")\n",
    "\n",
    "# Cria um objeto Draw para desenhar na imagem de fundo\n",
    "draw = ImageDraw.Draw(background_image)\n",
    "\n",
    "# Coordenadas e dimensões da linha\n",
    "line_x, line_y = 14, 50\n",
    "line_width, line_height = 95, 1  # Largura de 95px e altura de 1px para a linha\n",
    "\n",
    "# Desenha a linha\n",
    "draw.line([(line_x, line_y), (line_x + line_width, line_y)], fill=\"black\", width=line_height)\n",
    "\n",
    "# Define as fontes para os textos\n",
    "try:\n",
    "    font_large = ImageFont.truetype(\"arial.ttf\", 12)  # Fonte tamanho 8 para \"Thiago Silva\"\n",
    "    font_small = ImageFont.truetype(\"arial.ttf\", 8)  # Fonte tamanho 4 para \"SST\"\n",
    "except IOError:\n",
    "    font_large = ImageFont.load_default()\n",
    "    font_small = ImageFont.load_default()\n",
    "\n",
    "# Calcula a posição central da linha\n",
    "center_line = line_x + line_width // 2\n",
    "\n",
    "# Textos\n",
    "text1 = \"Thiago Silva\"\n",
    "text2 = \"SST\"\n",
    "\n",
    "# Calcula a largura do texto para centralização\n",
    "text1_width, text1_height = draw.textsize(text1, font=font_large)\n",
    "text2_width, text2_height = draw.textsize(text2, font=font_small)\n",
    "\n",
    "# Desenha o texto \"Thiago Silva\"\n",
    "draw.text((center_line - text1_width // 2, line_y + 1), text1, font=font_large, fill=\"black\")\n",
    "\n",
    "# Desenha o texto \"SST\"\n",
    "draw.text((center_line - text2_width // 2, line_y + text1_height + 1), text2, font=font_small, fill=\"black\")\n",
    "\n",
    "# Cola nobg_image centralizada sobre a linha, ajustada em 5 pixels para baixo\n",
    "adjusted_y = line_y - nobg_height + 10\n",
    "background_image.paste(nobg_image, (center_line - nobg_width // 2, adjusted_y), nobg_image)\n",
    "\n",
    "# Salva\n",
    "# Salva a imagem processada como PNG\n",
    "background_image.save(\"final_image.png\", \"PNG\")\n",
    "\n",
    "# Nome do arquivo da imagem e do PDF\n",
    "input_path = \"final_image.png\"\n",
    "output_path = \"final_image.pdf\"\n",
    "\n",
    "with open(\"final_image.png\", \"rb\") as image_file:\n",
    "    pdf = img2pdf.convert(image_file)\n",
    "\n",
    "    with open(\"final_image.pdf\", \"wb\") as output_file:\n",
    "        output_file.write(pdf)"
   ]
  },
  {
   "cell_type": "code",
   "execution_count": 6,
   "id": "17191450",
   "metadata": {
    "ExecuteTime": {
     "end_time": "2024-01-14T16:09:58.560666Z",
     "start_time": "2024-01-14T16:09:56.182945Z"
    }
   },
   "outputs": [],
   "source": []
  },
  {
   "cell_type": "code",
   "execution_count": 7,
   "id": "64f3d6da",
   "metadata": {
    "ExecuteTime": {
     "end_time": "2024-01-14T16:10:02.669293Z",
     "start_time": "2024-01-14T16:10:02.622057Z"
    }
   },
   "outputs": [],
   "source": []
  },
  {
   "cell_type": "code",
   "execution_count": 8,
   "id": "1cb6f146",
   "metadata": {
    "ExecuteTime": {
     "end_time": "2024-01-14T16:10:09.137968Z",
     "start_time": "2024-01-14T16:10:09.128828Z"
    }
   },
   "outputs": [
    {
     "name": "stderr",
     "output_type": "stream",
     "text": [
      "/tmp/ipykernel_148202/3619058642.py:9: DeprecationWarning: ANTIALIAS is deprecated and will be removed in Pillow 10 (2023-07-01). Use LANCZOS or Resampling.LANCZOS instead.\n",
      "  nobg_image_resized = cropped_image.resize((new_width, new_height), Image.ANTIALIAS)\n",
      "/tmp/ipykernel_148202/3619058642.py:16: DeprecationWarning: ANTIALIAS is deprecated and will be removed in Pillow 10 (2023-07-01). Use LANCZOS or Resampling.LANCZOS instead.\n",
      "  nobg_image_resized = cropped_image.resize((new_width, new_height), Image.ANTIALIAS)\n"
     ]
    }
   ],
   "source": []
  },
  {
   "cell_type": "code",
   "execution_count": 10,
   "id": "58b935aa",
   "metadata": {
    "ExecuteTime": {
     "end_time": "2024-01-14T16:12:11.594689Z",
     "start_time": "2024-01-14T16:12:11.571749Z"
    },
    "scrolled": true
   },
   "outputs": [
    {
     "name": "stderr",
     "output_type": "stream",
     "text": [
      "/tmp/ipykernel_148202/2628645315.py:39: DeprecationWarning: textsize is deprecated and will be removed in Pillow 10 (2023-07-01). Use textbbox or textlength instead.\n",
      "  text1_width, text1_height = draw.textsize(text1, font=font_large)\n",
      "/tmp/ipykernel_148202/2628645315.py:40: DeprecationWarning: textsize is deprecated and will be removed in Pillow 10 (2023-07-01). Use textbbox or textlength instead.\n",
      "  text2_width, text2_height = draw.textsize(text2, font=font_small)\n",
      "Image contains an alpha channel. Computing a separate soft mask (/SMask) image to store transparency in PDF.\n"
     ]
    }
   ],
   "source": [
    "\n",
    "\n"
   ]
  },
  {
   "cell_type": "code",
   "execution_count": null,
   "id": "8d9c0428",
   "metadata": {},
   "outputs": [],
   "source": []
  }
 ],
 "metadata": {
  "kernelspec": {
   "display_name": "Python 3 (ipykernel)",
   "language": "python",
   "name": "python3"
  },
  "language_info": {
   "codemirror_mode": {
    "name": "ipython",
    "version": 3
   },
   "file_extension": ".py",
   "mimetype": "text/x-python",
   "name": "python",
   "nbconvert_exporter": "python",
   "pygments_lexer": "ipython3",
   "version": "3.10.9"
  }
 },
 "nbformat": 4,
 "nbformat_minor": 5
}
