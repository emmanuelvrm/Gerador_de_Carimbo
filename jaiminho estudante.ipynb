{
 "cells": [
  {
   "cell_type": "code",
   "execution_count": 7,
   "id": "82d21dbe",
   "metadata": {
    "ExecuteTime": {
     "end_time": "2023-12-14T23:44:58.644787Z",
     "start_time": "2023-12-14T23:44:58.641460Z"
    }
   },
   "outputs": [],
   "source": [
    "import os\n",
    "import shutil\n",
    "import pyautogui as gui\n",
    "import time\n",
    "\n"
   ]
  },
  {
   "cell_type": "code",
   "execution_count": 39,
   "id": "0f3cf0c4",
   "metadata": {
    "ExecuteTime": {
     "end_time": "2023-12-15T00:52:58.140245Z",
     "start_time": "2023-12-15T00:52:58.132755Z"
    }
   },
   "outputs": [],
   "source": [
    "#Função de mover\n",
    "def mover(pasta_destino: str):\n",
    "    pasta_origem = '/home/emmanuel/Vídeos'\n",
    "    if not os.path.exists(pasta_destino):\n",
    "        os.makedirs(pasta_destino)\n",
    "    for arquivo in os.listdir(pasta_origem):\n",
    "        if arquivo.endswith('.mp4'):\n",
    "            caminho_arquivo_origem = os.path.join(pasta_origem, arquivo)\n",
    "            caminho_arquivo_destino = os.path.join(pasta_destino, arquivo)\n",
    "            while os.path.exists(caminho_arquivo_destino):\n",
    "                nome_base, extensao = os.path.splitext(arquivo)\n",
    "                nome_base += \"_1\"  # Adicione um número ao nome do arquivo\n",
    "                arquivo = nome_base + extensao\n",
    "                caminho_arquivo_destino = os.path.join(pasta_destino, arquivo)\n",
    "            shutil.move(caminho_arquivo_origem, caminho_arquivo_destino)\n",
    "\n",
    "#pasta_destino = '/mnt/7AA8219E1D539ADD/Karina'\n",
    "#mover(pasta_destino)"
   ]
  },
  {
   "cell_type": "code",
   "execution_count": 48,
   "id": "1747d42d",
   "metadata": {
    "ExecuteTime": {
     "end_time": "2023-12-15T01:03:24.388515Z",
     "start_time": "2023-12-15T01:03:24.384819Z"
    }
   },
   "outputs": [],
   "source": [
    "def assistir():\n",
    "    time.sleep(5)\n",
    "    gui.hotkey('winright', 'ctrl', 'r') #inicia gravação\n",
    "    time.sleep(2)\n",
    "    gui.moveTo(1769, 735,2, gui.easeInQuad) #entrar tela cheia\n",
    "    gui.click()\n",
    "    time.sleep(2)\n",
    "\n",
    "    gui.moveTo(1721, 392,2, gui.easeInQuad) #da play\n",
    "    gui.click()\n",
    "    \n",
    "    time.sleep(3300) # assistir aula\n",
    "    time.sleep(2)\n",
    "    \n",
    "    gui.hotkey('winright', 'ctrl', 'f') #pausa gravação\n",
    "\n",
    "    time.sleep(5)\n",
    "    gui.moveTo(2363, 746,2, gui.easeInQuad) #sair sair cheia\n",
    "    gui.click()"
   ]
  },
  {
   "cell_type": "code",
   "execution_count": 44,
   "id": "33f9079c",
   "metadata": {
    "ExecuteTime": {
     "end_time": "2023-12-15T00:54:53.005701Z",
     "start_time": "2023-12-15T00:54:52.999170Z"
    }
   },
   "outputs": [],
   "source": [
    "urls = [\n",
    "    \"https://areadoaluno.megaconcursos.com/online-courses/11218/discipline/234634/video/224776\",\n",
    "    \"https://areadoaluno.megaconcursos.com/online-courses/11218/discipline/234639/video/224781\",\n",
    "    \"https://areadoaluno.megaconcursos.com/online-courses/11218/discipline/234640/video/224782\",\n",
    "    \"https://areadoaluno.megaconcursos.com/online-courses/11218/discipline/234653/video/224793\",\n",
    "    \"https://areadoaluno.megaconcursos.com/online-courses/11218/discipline/234654/video/224794\",\n",
    "    \"https://areadoaluno.megaconcursos.com/online-courses/11218/discipline/234648/video/224789\",\n",
    "    \"https://areadoaluno.megaconcursos.com/online-courses/11218/discipline/234660/video/224800\",\n",
    "    \"https://areadoaluno.megaconcursos.com/online-courses/11218/discipline/234663/video/224802\",\n",
    "    \"https://areadoaluno.megaconcursos.com/online-courses/11218/discipline/234657/video/224798\",\n",
    "    \"https://areadoaluno.megaconcursos.com/online-courses/11218/discipline/234667/video/224807\",\n",
    "    \"https://areadoaluno.megaconcursos.com/online-courses/11218/discipline/234678/video/224817\",\n",
    "    \"https://areadoaluno.megaconcursos.com/online-courses/11218/discipline/234679/video/224818\",\n",
    "    \"https://areadoaluno.megaconcursos.com/online-courses/11218/discipline/234674/video/224813\",\n",
    "    \"https://areadoaluno.megaconcursos.com/online-courses/11218/discipline/234687/video/224826\",\n",
    "    \"https://areadoaluno.megaconcursos.com/online-courses/11218/discipline/234688/video/224827\",\n",
    "    \"https://areadoaluno.megaconcursos.com/online-courses/11218/discipline/234683/video/224821\",\n",
    "    \"https://areadoaluno.megaconcursos.com/online-courses/11218/discipline/234694/video/224833\",\n",
    "    \"https://areadoaluno.megaconcursos.com/online-courses/11218/discipline/234698/video/224837\",\n",
    "    \"https://areadoaluno.megaconcursos.com/online-courses/11218/discipline/234692/video/224831\",\n",
    "    \"https://areadoaluno.megaconcursos.com/online-courses/11218/discipline/234704/video/224843\",\n",
    "    \"https://areadoaluno.megaconcursos.com/online-courses/11218/discipline/234707/video/224846\",\n",
    "    \"https://areadoaluno.megaconcursos.com/online-courses/11218/discipline/234708/video/224847\",\n",
    "    \"https://areadoaluno.megaconcursos.com/online-courses/11218/discipline/234720/video/224859\",\n",
    "    \"https://areadoaluno.megaconcursos.com/online-courses/11218/discipline/235307/video/225407\",\n",
    "    \"https://areadoaluno.megaconcursos.com/online-courses/11218/discipline/235310/video/225410\",\n",
    "    \"https://areadoaluno.megaconcursos.com/online-courses/11218/discipline/235303/video/225403\",\n",
    "    \"https://areadoaluno.megaconcursos.com/online-courses/11218/discipline/235541/video/225631\",\n",
    "    \"https://areadoaluno.megaconcursos.com/online-courses/11218/discipline/235542/video/225632\",\n",
    "    \"https://areadoaluno.megaconcursos.com/online-courses/11218/discipline/235536/video/225627\"\n",
    "]"
   ]
  },
  {
   "cell_type": "code",
   "execution_count": null,
   "id": "b03c5e4e",
   "metadata": {},
   "outputs": [],
   "source": []
  },
  {
   "cell_type": "code",
   "execution_count": 49,
   "id": "44734eb7",
   "metadata": {
    "ExecuteTime": {
     "end_time": "2023-12-15T08:03:41.234439Z",
     "start_time": "2023-12-15T01:03:39.921157Z"
    }
   },
   "outputs": [
    {
     "ename": "KeyboardInterrupt",
     "evalue": "",
     "output_type": "error",
     "traceback": [
      "\u001b[0;31m---------------------------------------------------------------------------\u001b[0m",
      "\u001b[0;31mKeyboardInterrupt\u001b[0m                         Traceback (most recent call last)",
      "Cell \u001b[0;32mIn[49], line 13\u001b[0m\n\u001b[1;32m     11\u001b[0m gui\u001b[38;5;241m.\u001b[39mpress(\u001b[38;5;124m'\u001b[39m\u001b[38;5;124menter\u001b[39m\u001b[38;5;124m'\u001b[39m)\n\u001b[1;32m     12\u001b[0m time\u001b[38;5;241m.\u001b[39msleep(\u001b[38;5;241m50\u001b[39m)\n\u001b[0;32m---> 13\u001b[0m \u001b[43massistir\u001b[49m\u001b[43m(\u001b[49m\u001b[43m)\u001b[49m\n\u001b[1;32m     14\u001b[0m time\u001b[38;5;241m.\u001b[39msleep(\u001b[38;5;241m5\u001b[39m)\n\u001b[1;32m     15\u001b[0m pasta_destino \u001b[38;5;241m=\u001b[39m \u001b[38;5;124m'\u001b[39m\u001b[38;5;124m/mnt/7AA8219E1D539ADD/Karina\u001b[39m\u001b[38;5;124m'\u001b[39m\n",
      "Cell \u001b[0;32mIn[48], line 12\u001b[0m, in \u001b[0;36massistir\u001b[0;34m()\u001b[0m\n\u001b[1;32m      9\u001b[0m gui\u001b[38;5;241m.\u001b[39mmoveTo(\u001b[38;5;241m1721\u001b[39m, \u001b[38;5;241m392\u001b[39m,\u001b[38;5;241m2\u001b[39m, gui\u001b[38;5;241m.\u001b[39measeInQuad) \u001b[38;5;66;03m#da play\u001b[39;00m\n\u001b[1;32m     10\u001b[0m gui\u001b[38;5;241m.\u001b[39mclick()\n\u001b[0;32m---> 12\u001b[0m \u001b[43mtime\u001b[49m\u001b[38;5;241;43m.\u001b[39;49m\u001b[43msleep\u001b[49m\u001b[43m(\u001b[49m\u001b[38;5;241;43m3300\u001b[39;49m\u001b[43m)\u001b[49m \u001b[38;5;66;03m# assistir aula\u001b[39;00m\n\u001b[1;32m     13\u001b[0m time\u001b[38;5;241m.\u001b[39msleep(\u001b[38;5;241m2\u001b[39m)\n\u001b[1;32m     15\u001b[0m gui\u001b[38;5;241m.\u001b[39mhotkey(\u001b[38;5;124m'\u001b[39m\u001b[38;5;124mwinright\u001b[39m\u001b[38;5;124m'\u001b[39m, \u001b[38;5;124m'\u001b[39m\u001b[38;5;124mctrl\u001b[39m\u001b[38;5;124m'\u001b[39m, \u001b[38;5;124m'\u001b[39m\u001b[38;5;124mf\u001b[39m\u001b[38;5;124m'\u001b[39m) \u001b[38;5;66;03m#pausa gravação\u001b[39;00m\n",
      "\u001b[0;31mKeyboardInterrupt\u001b[0m: "
     ]
    }
   ],
   "source": [
    "time.sleep(2)\n",
    "gui.hotkey('ctrl', 't')\n",
    "time.sleep(2)\n",
    "for r,a in enumerate(urls):\n",
    "    time.sleep(5)\n",
    "    link = urls[r]\n",
    "    gui.hotkey('ctrl', 'l')\n",
    "    time.sleep(5)\n",
    "    gui.write(link, interval=0.15)\n",
    "    time.sleep(5)\n",
    "    gui.press('enter')\n",
    "    time.sleep(50)\n",
    "    assistir()\n",
    "    time.sleep(5)\n",
    "    pasta_destino = '/mnt/7AA8219E1D539ADD/Karina'\n",
    "    mover(pasta_destino)\n",
    "    gui.moveTo(108, 281,2, gui.easeInQuad)\n",
    "    gui.click()\n",
    "    time.sleep(2)\n",
    "    msg = 'To na posição '+str(r)+' de '+str(len(urls))\n",
    "    gui.write(msg, interval=0.15)\n",
    "    time.sleep(2)\n",
    "    gui.press('enter')\n",
    "    time.sleep(2)\n",
    "    gui.moveTo(1768, 261,2, gui.easeInQuad)\n",
    "    gui.click()\n",
    "    \n",
    "\n",
    "\n",
    "\n",
    "\n"
   ]
  },
  {
   "cell_type": "code",
   "execution_count": 31,
   "id": "0ae843d7",
   "metadata": {
    "ExecuteTime": {
     "end_time": "2023-12-15T00:32:50.248956Z",
     "start_time": "2023-12-15T00:32:06.954901Z"
    }
   },
   "outputs": [],
   "source": [
    "lista = [10, 4, 8]\n",
    "for r, a in enumerate(lista):\n",
    "    gui.moveTo(108, 281,2, gui.easeInQuad)\n",
    "    gui.click()\n",
    "    time.sleep(2)\n",
    "    msg = 'To na posição '+str(r)+' de '+str(len(urls))\n",
    "    gui.write(msg, interval=0.15)\n",
    "    time.sleep(2)\n",
    "    gui.press('enter')\n",
    "    time.sleep(2)\n",
    "    gui.moveTo(1768, 261,2, gui.easeInQuad)\n",
    "    gui.click()"
   ]
  },
  {
   "cell_type": "code",
   "execution_count": 25,
   "id": "bc3eab13",
   "metadata": {
    "ExecuteTime": {
     "end_time": "2023-12-15T00:24:02.923621Z",
     "start_time": "2023-12-15T00:23:52.910685Z"
    }
   },
   "outputs": [
    {
     "name": "stdout",
     "output_type": "stream",
     "text": [
      "Point(x=1768, y=261)\n"
     ]
    }
   ],
   "source": [
    "time.sleep(10)\n",
    "print(gui.position())"
   ]
  },
  {
   "cell_type": "code",
   "execution_count": 24,
   "id": "e86fac40",
   "metadata": {
    "ExecuteTime": {
     "end_time": "2023-12-15T00:21:15.109253Z",
     "start_time": "2023-12-15T00:21:12.912510Z"
    }
   },
   "outputs": [],
   "source": []
  }
 ],
 "metadata": {
  "kernelspec": {
   "display_name": "Python 3 (ipykernel)",
   "language": "python",
   "name": "python3"
  },
  "language_info": {
   "codemirror_mode": {
    "name": "ipython",
    "version": 3
   },
   "file_extension": ".py",
   "mimetype": "text/x-python",
   "name": "python",
   "nbconvert_exporter": "python",
   "pygments_lexer": "ipython3",
   "version": "3.10.9"
  }
 },
 "nbformat": 4,
 "nbformat_minor": 5
}
