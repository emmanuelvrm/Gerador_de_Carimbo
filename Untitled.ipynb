{
 "cells": [
  {
   "cell_type": "code",
   "execution_count": 21,
   "id": "5de5ef9a",
   "metadata": {
    "ExecuteTime": {
     "end_time": "2023-11-16T14:23:05.117567Z",
     "start_time": "2023-11-16T14:23:05.113781Z"
    }
   },
   "outputs": [],
   "source": [
    "import pyautogui as gui\n",
    "import pyperclip as pc\n",
    "import time\n"
   ]
  },
  {
   "cell_type": "code",
   "execution_count": 32,
   "id": "1316c501",
   "metadata": {
    "ExecuteTime": {
     "end_time": "2023-11-16T14:58:03.153643Z",
     "start_time": "2023-11-16T14:56:52.666046Z"
    }
   },
   "outputs": [
    {
     "name": "stdout",
     "output_type": "stream",
     "text": [
      "Abrindo em uma sessão de navegador existente.\r\n"
     ]
    }
   ],
   "source": [
    "#Escolher grupo\n",
    "def manda_msg_grp():\n",
    "    !google-chrome https://web.whatsapp.com/\n",
    "    time.sleep(30)\n",
    "    gui.hotkey('ctrl', 'alt', '/')\n",
    "    time.sleep(5)\n",
    "    gui.write('Notas', interval=0.5)\n",
    "    time.sleep(5)\n",
    "    gui.press('tab')\n",
    "    time.sleep(5)\n",
    "    gui.press('tab')\n",
    "    time.sleep(5)\n",
    "    gui.press('enter')\n",
    "    time.sleep(5)\n",
    "    pc.copy('Teste 2')\n",
    "    time.sleep(5)\n",
    "    gui.hotkey('ctrl', 'v')\n",
    "    time.sleep(5)\n",
    "    gui.press('enter')\n",
    "\n",
    "def manda_msg_tel():\n",
    "    !google-chrome https://web.whatsapp.com/send/?phone=5531995188904\n",
    "    time.sleep(60)\n",
    "    pc.copy(texto)\n",
    "    time.sleep(5)\n",
    "    gui.hotkey('ctrl', 'v')\n",
    "    time.sleep(5)\n",
    "    gui.press('enter')\n",
    "\n",
    "\n",
    "manda_msg_tel()"
   ]
  },
  {
   "cell_type": "code",
   "execution_count": 22,
   "id": "aa7eec4f",
   "metadata": {
    "ExecuteTime": {
     "end_time": "2023-11-16T14:23:52.979691Z",
     "start_time": "2023-11-16T14:23:47.972587Z"
    }
   },
   "outputs": [
    {
     "data": {
      "text/plain": [
       "Point(x=1274, y=211)"
      ]
     },
     "execution_count": 22,
     "metadata": {},
     "output_type": "execute_result"
    }
   ],
   "source": [
    "time.sleep(5)\n",
    "gui.position()"
   ]
  },
  {
   "cell_type": "code",
   "execution_count": 31,
   "id": "d945fe19",
   "metadata": {
    "ExecuteTime": {
     "end_time": "2023-11-16T14:55:03.958982Z",
     "start_time": "2023-11-16T14:55:01.537696Z"
    }
   },
   "outputs": [
    {
     "name": "stdout",
     "output_type": "stream",
     "text": [
      "textoLorem Ipsum \"Neque porro quisquam est qui dolorem ipsum quia dolor sit amet, consectetur, adipisci velit...\" \"Não há ninguém que ame a dor por si só, que a busque e queira tê-la, simplesmente por ser dor...\" Lorem ipsum dolor sit amet, consectetur adipiscing elit. Donec volutpat dolor eget tortor condimentum tristique. Nulla varius massa felis, eget cursus purus volutpat quis. Proin tempus ultrices laoreet. Sed turpis est, sodales quis auctor nec, ultrices vel leo. Vivamus placerat mi ex, sed fringilla arcu aliquam et. Aliquam egestas sagittis justo, eget accumsan justo venenatis eu. Nunc vel dui elit.  Mauris tincidunt sit amet quam in pellentesque. Phasellus in odio viverra, eleifend magna a, dignissim sem. Donec blandit erat dui, a condimentum quam euismod non. Vestibulum nec congue mauris, id viverra nulla. In hac habitasse platea dictumst. Pellentesque ac libero eget quam gravida pellentesque at ac sem. Suspendisse porta non justo vitae elementum. Vestibulum pharetra eu metus ac cursus.  Morbi eget finibus lectus. Nulla id elit vitae lacus porta volutpat. Mauris sapien felis, accumsan semper tortor a, rhoncus pulvinar magna. Pellentesque vitae egestas nunc, in lacinia ligula. Vestibulum lobortis in velit ut pretium. In quis lacus nec velit consequat convallis. Nam bibendum maximus enim nec dignissim. Morbi accumsan porttitor augue, eget cursus odio semper nec. Pellentesque lacus ex, condimentum vitae risus molestie, vulputate blandit arcu. In justo sem, tincidunt non dui et, auctor scelerisque felis. Duis quis justo id augue interdum feugiat ut placerat ante. Integer tincidunt pulvinar sodales. Nullam placerat at orci vitae consectetur. Cras id condimentum dolor, sit amet ultrices nisl. Aliquam condimentum commodo est. Nunc felis nisl, rhoncus a eleifend vitae, pulvinar ac dui.  Sed efficitur, ex vitae mattis euismod, lectus magna dapibus neque, rutrum aliquam nibh massa at ipsum. Aliquam eu gravida lacus, ultricies malesuada erat. Orci varius natoque penatibus et magnis dis parturient montes, nascetur ridiculus mus. Integer sollicitudin, est vel suscipit malesuada, odio lacus ornare massa, at maximus nibh arcu a mauris. Proin porttitor tellus nec elit elementum, efficitur lacinia arcu ullamcorper. Donec neque diam, auctor in feugiat ac, bibendum quis tortor. Quisque sagittis turpis vitae augue pellentesque ultricies. Aenean sollicitudin pellentesque lacus, id imperdiet lorem ultrices eu. Integer consequat vel odio quis viverra. Donec velit magna, suscipit at libero sit amet, pharetra euismod ante.  Orci varius natoque penatibus et magnis dis parturient montes, nascetur ridiculus mus. Pellentesque at erat orci. Quisque auctor justo dui. Proin facilisis odio convallis, ornare ante fringilla, varius neque. Integer nec tristique orci, ut pellentesque augue. Maecenas vehicula sapien vel felis pretium, sed facilisis nulla maximus. Quisque dolor ex, consequat vitae convallis nec, tincidunt ac odio. Curabitur maximus semper posuere. Vivamus in mi sapien. Nullam tellus leo, faucibus vel justo quis, consectetur ullamcorper risus.  Aenean maximus ultricies sem, at dignissim orci aliquam sit amet. Nunc at arcu nec tortor bibendum egestas. Praesent tincidunt vulputate arcu nec eleifend. Aliquam leo odio, convallis at aliquet sit amet, pulvinar in ante. Sed a arcu euismod, sollicitudin enim id, faucibus felis. Nunc eu blandit est. Integer vitae bibendum erat. In blandit rhoncus nibh porta hendrerit.  Donec nec neque ac metus faucibus iaculis at non lacus. Nullam sodales semper nunc vitae sodales. Maecenas sit amet ipsum vestibulum, sollicitudin ex quis, eleifend odio. Aenean rutrum ligula ut euismod ultricies. Curabitur sed nulla elementum, elementum felis quis, fermentum purus. Phasellus nibh justo, posuere eu ex eget, ultrices interdum dolor. Fusce scelerisque ultricies nibh ut porttitor. Donec sodales pharetra porta. Fusce vel eros sit amet eros viverra posuere. Donec iaculis, ex et semper laoreet, diam justo lobortis ante, a ultrices leo tellus sed justo. Pellentesque convallis pretium ornare. Sed lacus sapien, pretium et sollicitudin at, aliquam eu velit. Cras sit amet diam sem. Donec bibendum volutpat tincidunt. Aliquam vel varius est.  Vivamus efficitur luctus tempor. Nullam nec consectetur felis, ut consectetur ex. Aliquam vel dolor ac massa porttitor pharetra nec eget dolor. Praesent a accumsan quam. Vivamus imperdiet nunc et consectetur tristique. Nullam tempus imperdiet nulla eu ultrices. Nam eu rutrum quam. Duis ipsum risus, vestibulum hendrerit venenatis at, interdum ut mi. Donec imperdiet dapibus est vel convallis. Donec feugiat sem ut odio cursus rhoncus. Sed auctor tellus et semper pretium. Praesent et metus dui. Ut justo lectus, tempus ac interdum ac, gravida in elit. Sed in massa sollicitudin, vulputate sapien eget, vehicula lacus.  Sed ut velit dolor. Duis auctor purus tellus, non auctor erat viverra et. Fusce dictum non nibh ut elementum. Curabitur pretium aliquet sagittis. Maecenas et tortor vel velit tincidunt consequat. Nunc eu maximus enim, vel viverra tellus. Curabitur semper imperdiet rutrum.  Nulla facilisi. Nunc ornare, enim eget tristique gravida, dolor ipsum luctus mauris, ac gravida tortor dui sit amet tellus. Nunc finibus lectus nec nunc ultrices vulputate. Proin nec leo interdum, posuere erat sit amet, luctus magna. Mauris euismod mattis odio, vitae porttitor metus. Nulla quis orci semper enim congue dictum id sit amet lorem. Aenean ut nibh sit amet enim eleifend eleifend commodo sed purus. Nunc et eros commodo, bibendum felis sit amet, vestibulum odio. Aliquam dictum hendrerit luctus.  Foram gerados 10 parágrafos, 797 palavras e 5389 bytes de Lorem Ipsum\n"
     ]
    }
   ],
   "source": [
    "texto = input('texto')"
   ]
  }
 ],
 "metadata": {
  "kernelspec": {
   "display_name": "Python 3 (ipykernel)",
   "language": "python",
   "name": "python3"
  },
  "language_info": {
   "codemirror_mode": {
    "name": "ipython",
    "version": 3
   },
   "file_extension": ".py",
   "mimetype": "text/x-python",
   "name": "python",
   "nbconvert_exporter": "python",
   "pygments_lexer": "ipython3",
   "version": "3.10.9"
  }
 },
 "nbformat": 4,
 "nbformat_minor": 5
}
